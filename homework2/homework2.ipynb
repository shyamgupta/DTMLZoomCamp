{
 "cells": [
  {
   "cell_type": "markdown",
   "id": "20ed898f-ef30-4df1-9096-fb633506e7b2",
   "metadata": {},
   "source": [
    "# Homework 2\n",
    "## Student Name: Shyam Gupta\n",
    "## Submission Date: Oct-8-2024"
   ]
  },
  {
   "cell_type": "code",
   "execution_count": 6,
   "id": "5693a246-e67a-46dd-8b52-85c2007270de",
   "metadata": {},
   "outputs": [],
   "source": [
    "# Import packages\n",
    "import pandas as pd\n",
    "import numpy as np\n",
    "import matplotlib.pyplot as plt\n",
    "import seaborn as sns\n",
    "%matplotlib inline"
   ]
  },
  {
   "cell_type": "code",
   "execution_count": 7,
   "id": "9a1f03fb-8fa3-48f6-a28f-d31f6f00c7a3",
   "metadata": {},
   "outputs": [
    {
     "data": {
      "text/html": [
       "<div>\n",
       "<style scoped>\n",
       "    .dataframe tbody tr th:only-of-type {\n",
       "        vertical-align: middle;\n",
       "    }\n",
       "\n",
       "    .dataframe tbody tr th {\n",
       "        vertical-align: top;\n",
       "    }\n",
       "\n",
       "    .dataframe thead th {\n",
       "        text-align: right;\n",
       "    }\n",
       "</style>\n",
       "<table border=\"1\" class=\"dataframe\">\n",
       "  <thead>\n",
       "    <tr style=\"text-align: right;\">\n",
       "      <th></th>\n",
       "      <th>Laptop</th>\n",
       "      <th>Status</th>\n",
       "      <th>Brand</th>\n",
       "      <th>Model</th>\n",
       "      <th>CPU</th>\n",
       "      <th>RAM</th>\n",
       "      <th>Storage</th>\n",
       "      <th>Storage type</th>\n",
       "      <th>GPU</th>\n",
       "      <th>Screen</th>\n",
       "      <th>Touch</th>\n",
       "      <th>Final Price</th>\n",
       "    </tr>\n",
       "  </thead>\n",
       "  <tbody>\n",
       "    <tr>\n",
       "      <th>0</th>\n",
       "      <td>ASUS ExpertBook B1 B1502CBA-EJ0436X Intel Core...</td>\n",
       "      <td>New</td>\n",
       "      <td>Asus</td>\n",
       "      <td>ExpertBook</td>\n",
       "      <td>Intel Core i5</td>\n",
       "      <td>8</td>\n",
       "      <td>512</td>\n",
       "      <td>SSD</td>\n",
       "      <td>NaN</td>\n",
       "      <td>15.6</td>\n",
       "      <td>No</td>\n",
       "      <td>1009.0</td>\n",
       "    </tr>\n",
       "    <tr>\n",
       "      <th>1</th>\n",
       "      <td>Alurin Go Start Intel Celeron N4020/8GB/256GB ...</td>\n",
       "      <td>New</td>\n",
       "      <td>Alurin</td>\n",
       "      <td>Go</td>\n",
       "      <td>Intel Celeron</td>\n",
       "      <td>8</td>\n",
       "      <td>256</td>\n",
       "      <td>SSD</td>\n",
       "      <td>NaN</td>\n",
       "      <td>15.6</td>\n",
       "      <td>No</td>\n",
       "      <td>299.0</td>\n",
       "    </tr>\n",
       "  </tbody>\n",
       "</table>\n",
       "</div>"
      ],
      "text/plain": [
       "                                              Laptop Status   Brand  \\\n",
       "0  ASUS ExpertBook B1 B1502CBA-EJ0436X Intel Core...    New    Asus   \n",
       "1  Alurin Go Start Intel Celeron N4020/8GB/256GB ...    New  Alurin   \n",
       "\n",
       "        Model            CPU  RAM  Storage Storage type  GPU  Screen Touch  \\\n",
       "0  ExpertBook  Intel Core i5    8      512          SSD  NaN    15.6    No   \n",
       "1          Go  Intel Celeron    8      256          SSD  NaN    15.6    No   \n",
       "\n",
       "   Final Price  \n",
       "0       1009.0  \n",
       "1        299.0  "
      ]
     },
     "execution_count": 7,
     "metadata": {},
     "output_type": "execute_result"
    }
   ],
   "source": [
    "df = pd.read_csv('laptops.csv')\n",
    "df.head(2)"
   ]
  },
  {
   "cell_type": "code",
   "execution_count": 8,
   "id": "dd741cc0-5af2-43ad-a885-87f7bfc1c953",
   "metadata": {},
   "outputs": [
    {
     "data": {
      "text/html": [
       "<div>\n",
       "<style scoped>\n",
       "    .dataframe tbody tr th:only-of-type {\n",
       "        vertical-align: middle;\n",
       "    }\n",
       "\n",
       "    .dataframe tbody tr th {\n",
       "        vertical-align: top;\n",
       "    }\n",
       "\n",
       "    .dataframe thead th {\n",
       "        text-align: right;\n",
       "    }\n",
       "</style>\n",
       "<table border=\"1\" class=\"dataframe\">\n",
       "  <thead>\n",
       "    <tr style=\"text-align: right;\">\n",
       "      <th></th>\n",
       "      <th>laptop</th>\n",
       "      <th>status</th>\n",
       "      <th>brand</th>\n",
       "      <th>model</th>\n",
       "      <th>cpu</th>\n",
       "      <th>ram</th>\n",
       "      <th>storage</th>\n",
       "      <th>storage_type</th>\n",
       "      <th>gpu</th>\n",
       "      <th>screen</th>\n",
       "      <th>touch</th>\n",
       "      <th>final_price</th>\n",
       "    </tr>\n",
       "  </thead>\n",
       "  <tbody>\n",
       "    <tr>\n",
       "      <th>0</th>\n",
       "      <td>ASUS ExpertBook B1 B1502CBA-EJ0436X Intel Core...</td>\n",
       "      <td>New</td>\n",
       "      <td>Asus</td>\n",
       "      <td>ExpertBook</td>\n",
       "      <td>Intel Core i5</td>\n",
       "      <td>8</td>\n",
       "      <td>512</td>\n",
       "      <td>SSD</td>\n",
       "      <td>NaN</td>\n",
       "      <td>15.6</td>\n",
       "      <td>No</td>\n",
       "      <td>1009.0</td>\n",
       "    </tr>\n",
       "    <tr>\n",
       "      <th>1</th>\n",
       "      <td>Alurin Go Start Intel Celeron N4020/8GB/256GB ...</td>\n",
       "      <td>New</td>\n",
       "      <td>Alurin</td>\n",
       "      <td>Go</td>\n",
       "      <td>Intel Celeron</td>\n",
       "      <td>8</td>\n",
       "      <td>256</td>\n",
       "      <td>SSD</td>\n",
       "      <td>NaN</td>\n",
       "      <td>15.6</td>\n",
       "      <td>No</td>\n",
       "      <td>299.0</td>\n",
       "    </tr>\n",
       "  </tbody>\n",
       "</table>\n",
       "</div>"
      ],
      "text/plain": [
       "                                              laptop status   brand  \\\n",
       "0  ASUS ExpertBook B1 B1502CBA-EJ0436X Intel Core...    New    Asus   \n",
       "1  Alurin Go Start Intel Celeron N4020/8GB/256GB ...    New  Alurin   \n",
       "\n",
       "        model            cpu  ram  storage storage_type  gpu  screen touch  \\\n",
       "0  ExpertBook  Intel Core i5    8      512          SSD  NaN    15.6    No   \n",
       "1          Go  Intel Celeron    8      256          SSD  NaN    15.6    No   \n",
       "\n",
       "   final_price  \n",
       "0       1009.0  \n",
       "1        299.0  "
      ]
     },
     "execution_count": 8,
     "metadata": {},
     "output_type": "execute_result"
    }
   ],
   "source": [
    "# Normalize column names: lowercase column names, replace spaces with underscores\n",
    "df.columns = df.columns.str.lower().str.replace(\" \",\"_\")\n",
    "df.head(2)"
   ]
  },
  {
   "cell_type": "code",
   "execution_count": 9,
   "id": "af41c3b3-9708-4a3a-86b0-358a2fa8b5bf",
   "metadata": {},
   "outputs": [
    {
     "data": {
      "text/html": [
       "<div>\n",
       "<style scoped>\n",
       "    .dataframe tbody tr th:only-of-type {\n",
       "        vertical-align: middle;\n",
       "    }\n",
       "\n",
       "    .dataframe tbody tr th {\n",
       "        vertical-align: top;\n",
       "    }\n",
       "\n",
       "    .dataframe thead th {\n",
       "        text-align: right;\n",
       "    }\n",
       "</style>\n",
       "<table border=\"1\" class=\"dataframe\">\n",
       "  <thead>\n",
       "    <tr style=\"text-align: right;\">\n",
       "      <th></th>\n",
       "      <th>ram</th>\n",
       "      <th>storage</th>\n",
       "      <th>screen</th>\n",
       "      <th>final_price</th>\n",
       "    </tr>\n",
       "  </thead>\n",
       "  <tbody>\n",
       "    <tr>\n",
       "      <th>0</th>\n",
       "      <td>8</td>\n",
       "      <td>512</td>\n",
       "      <td>15.6</td>\n",
       "      <td>1009.0</td>\n",
       "    </tr>\n",
       "    <tr>\n",
       "      <th>1</th>\n",
       "      <td>8</td>\n",
       "      <td>256</td>\n",
       "      <td>15.6</td>\n",
       "      <td>299.0</td>\n",
       "    </tr>\n",
       "  </tbody>\n",
       "</table>\n",
       "</div>"
      ],
      "text/plain": [
       "   ram  storage  screen  final_price\n",
       "0    8      512    15.6       1009.0\n",
       "1    8      256    15.6        299.0"
      ]
     },
     "execution_count": 9,
     "metadata": {},
     "output_type": "execute_result"
    }
   ],
   "source": [
    "# Only use the specified columns: ram, storage, screen, final_price\n",
    "df = df[['ram','storage','screen','final_price']]\n",
    "df.head(2)"
   ]
  },
  {
   "cell_type": "code",
   "execution_count": 10,
   "id": "48aaa314-4fd0-4e5e-af82-8a87728fb0e5",
   "metadata": {},
   "outputs": [
    {
     "data": {
      "text/plain": [
       "<Axes: xlabel='final_price', ylabel='Count'>"
      ]
     },
     "execution_count": 10,
     "metadata": {},
     "output_type": "execute_result"
    },
    {
     "data": {
      "image/png": "[encoded data removed]",
      "text/plain": [
       "<Figure size 640x480 with 1 Axes>"
      ]
     },
     "metadata": {},
     "output_type": "display_data"
    }
   ],
   "source": [
    "# Does final_price have a long tail?\n",
    "sns.histplot(df.final_price)"
   ]
  },
  {
   "cell_type": "code",
   "execution_count": 11,
   "id": "3fc77d4d-66bf-4267-944f-cd2b1e4a9baf",
   "metadata": {},
   "outputs": [
    {
     "data": {
      "text/plain": [
       "ram            0\n",
       "storage        0\n",
       "screen         4\n",
       "final_price    0\n",
       "dtype: int64"
      ]
     },
     "execution_count": 11,
     "metadata": {},
     "output_type": "execute_result"
    }
   ],
   "source": [
    "# Question 1: Name the column with missing values\n",
    "# Answer: 'screen' column has 4 missing values\n",
    "df.isnull().sum()"
   ]
  },
  {
   "cell_type": "code",
   "execution_count": null,
   "id": "cac0f3fa-8426-48ec-aa31-7c96d7315edf",
   "metadata": {},
   "outputs": [],
   "source": []
  },
  {
   "cell_type": "code",
   "execution_count": 12,
   "id": "5113e371-2624-4d3f-bd25-59aab5150984",
   "metadata": {},
   "outputs": [
    {
     "name": "stdout",
     "output_type": "stream",
     "text": [
      "16.0\n"
     ]
    }
   ],
   "source": [
    "# Question 2: What is the median for variable 'ram'\n",
    "# Answer: 16.0\n",
    "print(df['ram'].median())"
   ]
  },
  {
   "cell_type": "code",
   "execution_count": 13,
   "id": "0702fafa-f1e1-4deb-b91a-4f1fbec8432e",
   "metadata": {},
   "outputs": [
    {
     "name": "stdout",
     "output_type": "stream",
     "text": [
      "Dataset Size: Training - 1296, Validation - 432, Test - 432\n"
     ]
    }
   ],
   "source": [
    "# Split the dataset, use seed=42, train = 60%, validation=20% and test=20%\n",
    "n = len(df)\n",
    "n_val = int(n*0.2)\n",
    "n_test = int(n*0.2)\n",
    "n_train = n - n_val - n_test\n",
    "\n",
    "idx = np.arange(n)\n",
    "np.random.seed(42)\n",
    "np.random.shuffle(idx)\n",
    "\n",
    "df_shuffled = df.iloc[idx]\n",
    "df_train = df_shuffled.iloc[:n_train].copy()\n",
    "df_val = df_shuffled.iloc[n_train : n_train + n_val].copy()\n",
    "df_test = df_shuffled.iloc[n_train+n_val:].copy()\n",
    "\n",
    "# Reset index and drop it\n",
    "df_train = df_train.reset_index(drop=True)\n",
    "df_val = df_val.reset_index(drop=True)\n",
    "df_test=df_test.reset_index(drop=True)\n",
    "\n",
    "# Log transform target variable for each dataset\n",
    "y_train = np.log1p(df_train.final_price.values)\n",
    "y_val = np.log1p(df_val.final_price.values)\n",
    "y_test = np.log1p(df_test.final_price.values)\n",
    "\n",
    "# Delete the 'final_price' column from datasets\n",
    "del df_train['final_price']\n",
    "del df_val['final_price']\n",
    "del df_test['final_price']\n",
    "\n",
    "print(f'Dataset Size: Training - {len(df_train)}, Validation - {len(df_val)}, Test - {len(df_test)}')"
   ]
  },
  {
   "cell_type": "code",
   "execution_count": 14,
   "id": "b1a219e9-c68a-4bf5-a482-afcc43bdaae4",
   "metadata": {},
   "outputs": [
    {
     "name": "stdout",
     "output_type": "stream",
     "text": [
      "RMSE value with training dataset is 0.45\n",
      "RMSE value with validation dataset is is 0.43\n"
     ]
    },
    {
     "data": {
      "image/png": "[encoded data removed]",
      "text/plain": [
       "<Figure size 640x480 with 1 Axes>"
      ]
     },
     "metadata": {},
     "output_type": "display_data"
    }
   ],
   "source": [
    "# Option 1: Filling missing values with 0\n",
    "df_train_0 = df_train.fillna(0)\n",
    "df_val_0 = df_val.fillna(0)\n",
    "df_test_0 = df_test.fillna(0)\n",
    "\n",
    "# Calculate the weight vector\n",
    "def train_linear_regression(X,y):\n",
    "    # adding dummy column\n",
    "    ones = np.ones(X.shape[0])\n",
    "    X = np.column_stack([ones,X])\n",
    "    # normal equation formula\n",
    "    XTX = X.T.dot(X)\n",
    "    XTX_inv = np.linalg.inv(XTX)\n",
    "    w = XTX_inv.dot(X.T).dot(y)\n",
    "    return w[0],w[1:]\n",
    "\n",
    "# Convert df_train_0 to a NumPy array\n",
    "X_train_0 = df_train_0.values\n",
    "\n",
    "w_0, w = train_linear_regression(X_train_0,y_train)\n",
    "y_pred = w_0 + X_train_0.dot(w)\n",
    "\n",
    "# Check how good the predictions are\n",
    "sns.histplot(y_pred,label='prediction')\n",
    "sns.histplot(y_train,label='target')\n",
    "plt.legend()\n",
    "\n",
    "# Finding RMSE\n",
    "def rmse(y,y_pred):\n",
    "    error = y_pred - y\n",
    "    mse = (error**2).mean()\n",
    "    return round(np.sqrt(mse),2)\n",
    "\n",
    "print(f'RMSE value with training dataset is {rmse(y_train,y_pred)}')\n",
    "\n",
    "# Validating the model\n",
    "X_val_0 = df_val_0.values\n",
    "y_pred = w_0 + X_val_0.dot(w)\n",
    "print(f'RMSE value with validation dataset is is {rmse(y_val,y_pred)}')"
   ]
  },
  {
   "cell_type": "code",
   "execution_count": 15,
   "id": "36396654-40c5-43b1-8924-d3ffdbe28db0",
   "metadata": {},
   "outputs": [
    {
     "name": "stdout",
     "output_type": "stream",
     "text": [
      "RMSE value with training dataset is 0.45\n",
      "RMSE value with validation dataset is 0.43\n"
     ]
    },
    {
     "data": {
      "image/png": "[encoded data removed]",
      "text/plain": [
       "<Figure size 640x480 with 1 Axes>"
      ]
     },
     "metadata": {},
     "output_type": "display_data"
    }
   ],
   "source": [
    "# Option 2: Filling missing values with mean\n",
    "df_train_mean = df_train.fillna(df_train['screen'].mean())\n",
    "df_val_mean = df_val.fillna(df_val['screen'].mean())\n",
    "\n",
    "# Calculate the weight vector\n",
    "def train_linear_regression1(X,y):\n",
    "    # adding dummy column\n",
    "    ones = np.ones(X.shape[0])\n",
    "    X = np.column_stack([ones,X])\n",
    "    # normal equation formula\n",
    "    XTX = X.T.dot(X)\n",
    "    XTX_inv = np.linalg.inv(XTX)\n",
    "    w = XTX_inv.dot(X.T).dot(y)\n",
    "    return w[0],w[1:]\n",
    "\n",
    "# Convert df_train_mean to a NumPy array\n",
    "X_train_mean = df_train_mean.values\n",
    "\n",
    "w_0, w = train_linear_regression1(X_train_mean,y_train)\n",
    "y_pred_mean = w_0 + X_train_mean.dot(w)\n",
    "\n",
    "# Check how good the predictions are\n",
    "sns.histplot(y_pred_mean,label='prediction')\n",
    "sns.histplot(y_train,label='target')\n",
    "plt.legend()\n",
    "\n",
    "# Finding RMSE\n",
    "def rmse1(y,y_pred_mean):\n",
    "    error = y_pred_mean - y\n",
    "    mse = (error**2).mean()\n",
    "    return round(np.sqrt(mse),2)\n",
    "\n",
    "print(f'RMSE value with training dataset is {rmse1(y_train,y_pred_mean)}')\n",
    "\n",
    "# Validating the model\n",
    "X_val_mean = df_val_mean.values\n",
    "y_pred_mean = w_0 + X_val_mean.dot(w)\n",
    "print(f'RMSE value with validation dataset is {rmse1(y_val,y_pred_mean)}')"
   ]
  },
  {
   "cell_type": "markdown",
   "id": "026d472b-ffe7-4fb4-8c64-f172b866ad0f",
   "metadata": {},
   "source": [
    "# Question 4: Regularized Linear Regression"
   ]
  },
  {
   "cell_type": "code",
   "execution_count": 23,
   "id": "cbdbe501-7803-4bc7-b2b4-23935cdc8217",
   "metadata": {},
   "outputs": [
    {
     "name": "stdout",
     "output_type": "stream",
     "text": [
      "validation for r = 0, 0.43\n",
      "validation for r = 0.01, 0.43\n",
      "validation for r = 0.1, 0.43\n",
      "validation for r = 1, 0.43\n",
      "validation for r = 5, 0.46\n",
      "validation for r = 10, 0.51\n",
      "validation for r = 100, 0.67\n"
     ]
    }
   ],
   "source": [
    "# Regularized Linear Regression Model\n",
    "def reg_linear_regression(X,y,r=0.0):\n",
    "    ones = np.ones(X.shape[0])\n",
    "    X = np.column_stack([ones,X])\n",
    "    XTX = X.T.dot(X)\n",
    "    reg = r * np.eye(XTX.shape[0])\n",
    "    XTX = XTX + reg\n",
    "    XTX_inv = np.linalg.inv(XTX)\n",
    "    w = XTX_inv.dot(X.T).dot(y)\n",
    "    return w[0],w[1:]\n",
    "\n",
    "for r in [0,0.01,0.1,1,5,10,100]:\n",
    "    w_0,w = reg_linear_regression(df_train_0,y_train, r=r)\n",
    "    y_pred = w_0 + X_val_0.dot(w)\n",
    "    print(f'validation for r = {r},',rmse(y_val,y_pred))"
   ]
  },
  {
   "cell_type": "markdown",
   "id": "2147779c-110e-475c-8bd8-79f4e23f6769",
   "metadata": {},
   "source": [
    "# Question 5: Effect of using different seed values"
   ]
  },
  {
   "cell_type": "code",
   "execution_count": 39,
   "id": "5e61b1b7-5cd9-4fbb-8ebb-08916e763200",
   "metadata": {},
   "outputs": [
    {
     "name": "stdout",
     "output_type": "stream",
     "text": [
      "RMSE score for seed value 0 is 0.43\n",
      "RMSE score for seed value 1 is 0.43\n",
      "RMSE score for seed value 2 is 0.44\n",
      "RMSE score for seed value 3 is 0.43\n",
      "RMSE score for seed value 4 is 0.43\n",
      "RMSE score for seed value 5 is 0.43\n",
      "RMSE score for seed value 6 is 0.44\n",
      "RMSE score for seed value 7 is 0.44\n",
      "RMSE score for seed value 8 is 0.44\n",
      "RMSE score for seed value 9 is 0.44\n",
      "Standard Deviation of RMSE scores is 0.005\n"
     ]
    }
   ],
   "source": [
    "# Use different seed values\n",
    "seed_values = [0,1,2,3,4,5,6,7,8,9]\n",
    "std_dev = []\n",
    "for seed in seed_values:\n",
    "    np.random.seed(seed)\n",
    "    np.random.shuffle(idx)\n",
    "    df_shuffled = df.iloc[idx]\n",
    "    df_train = df_shuffled.iloc[:n_train].copy()\n",
    "    df_val = df_shuffled.iloc[n_train : n_train + n_val].copy()\n",
    "    df_test = df_shuffled.iloc[n_train+n_val:].copy()\n",
    "    # Reset index and drop it\n",
    "    df_train = df_train.reset_index(drop=True)\n",
    "    df_val = df_val.reset_index(drop=True)\n",
    "    df_test=df_test.reset_index(drop=True)\n",
    "    # Log transform target variable for each dataset\n",
    "    y_train = np.log1p(df_train.final_price.values)\n",
    "    y_val = np.log1p(df_val.final_price.values)\n",
    "    y_test = np.log1p(df_test.final_price.values)\n",
    "    # Delete the 'final_price' column from datasets\n",
    "    del df_train['final_price']\n",
    "    del df_val['final_price']\n",
    "    del df_test['final_price']\n",
    "    # Option 1: Filling missing values with 0\n",
    "    df_train_0 = df_train.fillna(0)\n",
    "    df_val_0 = df_val.fillna(0)\n",
    "    df_test_0 = df_test.fillna(0)\n",
    "    # Convert df_train_0 to a NumPy array\n",
    "    X_train_0 = df_train_0.values\n",
    "    w_0, w = train_linear_regression(X_train_0,y_train)\n",
    "    y_pred = w_0 + X_train_0.dot(w)\n",
    "    std_dev.append(rmse(y_train,y_pred))\n",
    "    print(f'RMSE score for seed value {seed} is {rmse(y_train,y_pred)}')\n",
    "\n",
    "print(f'Standard Deviation of RMSE scores is {round(np.std(std_dev),3)}')\n",
    "    "
   ]
  },
  {
   "cell_type": "markdown",
   "id": "49532a28-c21e-4832-af80-aac291048b40",
   "metadata": {},
   "source": [
    "# Question 6: Used seed 9 and r = 0.001, find RMSE"
   ]
  },
  {
   "cell_type": "code",
   "execution_count": 55,
   "id": "bf8eefa8-4c5a-4367-bb11-2e3132efbccc",
   "metadata": {},
   "outputs": [
    {
     "ename": "ValueError",
     "evalue": "shapes (4,1296) and (1728,) not aligned: 1296 (dim 1) != 1728 (dim 0)",
     "output_type": "error",
     "traceback": [
      "\u001b[0;31m---------------------------------------------------------------------------\u001b[0m",
      "\u001b[0;31mValueError\u001b[0m                                Traceback (most recent call last)",
      "Cell \u001b[0;32mIn[55], line 14\u001b[0m\n\u001b[1;32m     11\u001b[0m dataset \u001b[38;5;241m=\u001b[39m dataset\u001b[38;5;241m.\u001b[39mfillna(\u001b[38;5;241m0\u001b[39m)\n\u001b[1;32m     13\u001b[0m \u001b[38;5;66;03m# Regularized Linear Regression\u001b[39;00m\n\u001b[0;32m---> 14\u001b[0m w_0,w \u001b[38;5;241m=\u001b[39m \u001b[43mreg_linear_regression\u001b[49m\u001b[43m(\u001b[49m\u001b[43mdataset\u001b[49m\u001b[43m,\u001b[49m\u001b[43m \u001b[49m\u001b[43mtarget\u001b[49m\u001b[43m,\u001b[49m\u001b[43mr\u001b[49m\u001b[38;5;241;43m=\u001b[39;49m\u001b[38;5;241;43m0.001\u001b[39;49m\u001b[43m)\u001b[49m\n",
      "Cell \u001b[0;32mIn[23], line 9\u001b[0m, in \u001b[0;36mreg_linear_regression\u001b[0;34m(X, y, r)\u001b[0m\n\u001b[1;32m      7\u001b[0m XTX \u001b[38;5;241m=\u001b[39m XTX \u001b[38;5;241m+\u001b[39m reg\n\u001b[1;32m      8\u001b[0m XTX_inv \u001b[38;5;241m=\u001b[39m np\u001b[38;5;241m.\u001b[39mlinalg\u001b[38;5;241m.\u001b[39minv(XTX)\n\u001b[0;32m----> 9\u001b[0m w \u001b[38;5;241m=\u001b[39m \u001b[43mXTX_inv\u001b[49m\u001b[38;5;241;43m.\u001b[39;49m\u001b[43mdot\u001b[49m\u001b[43m(\u001b[49m\u001b[43mX\u001b[49m\u001b[38;5;241;43m.\u001b[39;49m\u001b[43mT\u001b[49m\u001b[43m)\u001b[49m\u001b[38;5;241;43m.\u001b[39;49m\u001b[43mdot\u001b[49m\u001b[43m(\u001b[49m\u001b[43my\u001b[49m\u001b[43m)\u001b[49m\n\u001b[1;32m     10\u001b[0m \u001b[38;5;28;01mreturn\u001b[39;00m w[\u001b[38;5;241m0\u001b[39m],w[\u001b[38;5;241m1\u001b[39m:]\n",
      "\u001b[0;31mValueError\u001b[0m: shapes (4,1296) and (1728,) not aligned: 1296 (dim 1) != 1728 (dim 0)"
     ]
    }
   ],
   "source": [
    "# Use seed = 9\n",
    "idx = np.arange(n)\n",
    "np.random.seed(9)\n",
    "np.random.shuffle(idx)\n",
    "\n",
    "# Combine training and validation datasets\n",
    "dataset = df_train + df_val\n",
    "target = np.append(y_train,y_val)\n",
    "\n",
    "# Fill missing values with 0\n",
    "dataset = dataset.fillna(0)\n",
    "\n",
    "# Regularized Linear Regression\n",
    "w_0,w = reg_linear_regression(dataset, target,r=0.001)\n",
    "\n"
   ]
  },
  {
   "cell_type": "code",
   "execution_count": null,
   "id": "a174a440-4ae7-4b1c-8fce-2613a2bc6daf",
   "metadata": {},
   "outputs": [],
   "source": []
  }
 ],
 "metadata": {
  "kernelspec": {
   "display_name": "Python 3 (ipykernel)",
   "language": "python",
   "name": "python3"
  },
  "language_info": {
   "codemirror_mode": {
    "name": "ipython",
    "version": 3
   },
   "file_extension": ".py",
   "mimetype": "text/x-python",
   "name": "python",
   "nbconvert_exporter": "python",
   "pygments_lexer": "ipython3",
   "version": "3.12.6"
  }
 },
 "nbformat": 4,
 "nbformat_minor": 5
}
